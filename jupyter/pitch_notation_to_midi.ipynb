{
 "cells": [
  {
   "cell_type": "code",
   "execution_count": 3,
   "id": "2193e9e9-e5bd-45e1-914d-324bb71c69e6",
   "metadata": {
    "tags": []
   },
   "outputs": [
    {
     "name": "stdout",
     "output_type": "stream",
     "text": [
      "Requirement already satisfied: mido in /usr/lib/python3.10/site-packages (1.2.10)\n",
      "\u001b[33mWARNING: Running pip as the 'root' user can result in broken permissions and conflicting behaviour with the system package manager. It is recommended to use a virtual environment instead: https://pip.pypa.io/warnings/venv\u001b[0m\u001b[33m\n",
      "\u001b[0m"
     ]
    },
    {
     "name": "stdin",
     "output_type": "stream",
     "text": [
      "Enter a melody in textual format separated by commas:  G4, A4, B4, A4, G4, A4, G4, E4, A4, B4, A4, G4, E4, D4, A4, G4\n"
     ]
    }
   ],
   "source": [
    "!pip install mido\n",
    "\n",
    "import mido\n",
    "from mido import Message, MidiFile, MidiTrack\n",
    "\n",
    "def note_to_midi_pitch(note):\n",
    "    pitch_map = {'C': 0, 'D': 2, 'E': 4, 'F': 5, 'G': 7, 'A': 9, 'B': 11}\n",
    "    octave = int(note[-1]) + 1\n",
    "    pitch_class = note[0]\n",
    "    pitch_modifier = note[1] if len(note) > 2 else None\n",
    "\n",
    "    pitch = pitch_map[pitch_class] + (octave * 12)\n",
    "    if pitch_modifier == '#':\n",
    "        pitch += 1\n",
    "    elif pitch_modifier == 'b':\n",
    "        pitch -= 1\n",
    "\n",
    "    return pitch\n",
    "\n",
    "def create_midi_file(melody, output_filename='output.mid', duration=480):\n",
    "    midi_file = MidiFile()\n",
    "    track = MidiTrack()\n",
    "    midi_file.tracks.append(track)\n",
    "\n",
    "    for note in melody:\n",
    "        midi_note = note_to_midi_pitch(note)\n",
    "        track.append(Message('note_on', note=midi_note, velocity=64, time=0))\n",
    "        track.append(Message('note_off', note=midi_note, velocity=64, time=duration))\n",
    "\n",
    "    midi_file.save(output_filename)\n",
    "\n",
    "melody_input = input(\"Enter a melody in textual format separated by commas: \").split(', ')\n",
    "create_midi_file(melody_input)\n"
   ]
  },
  {
   "cell_type": "code",
   "execution_count": null,
   "id": "67ec7be6-f0cd-4ac7-9170-6898a77800ba",
   "metadata": {},
   "outputs": [],
   "source": [
    "\n"
   ]
  }
 ],
 "metadata": {
  "kernelspec": {
   "display_name": "Python 3 (ipykernel)",
   "language": "python",
   "name": "python3"
  },
  "language_info": {
   "codemirror_mode": {
    "name": "ipython",
    "version": 3
   },
   "file_extension": ".py",
   "mimetype": "text/x-python",
   "name": "python",
   "nbconvert_exporter": "python",
   "pygments_lexer": "ipython3",
   "version": "3.10.9"
  }
 },
 "nbformat": 4,
 "nbformat_minor": 5
}
