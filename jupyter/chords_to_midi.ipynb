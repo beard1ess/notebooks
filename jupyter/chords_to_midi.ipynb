{
 "cells": [
  {
   "cell_type": "code",
   "execution_count": 5,
   "id": "b96be33c-45ed-44cb-a122-c96ff3702d55",
   "metadata": {
    "tags": []
   },
   "outputs": [
    {
     "name": "stdout",
     "output_type": "stream",
     "text": [
      "Requirement already satisfied: mido in /usr/lib/python3.10/site-packages (1.2.10)\n",
      "\u001b[33mWARNING: Running pip as the 'root' user can result in broken permissions and conflicting behaviour with the system package manager. It is recommended to use a virtual environment instead: https://pip.pypa.io/warnings/venv\u001b[0m\u001b[33m\n",
      "\u001b[0m"
     ]
    },
    {
     "name": "stdin",
     "output_type": "stream",
     "text": [
      "Enter a chord progression separated by commas:  Em, Bm, C, G, D, Am, C, D\n"
     ]
    },
    {
     "name": "stdout",
     "output_type": "stream",
     "text": [
      "Em: E, G, B\n",
      "Bm: B, D, F#\n",
      "C: C, E, G\n",
      "G: G, B, D\n",
      "D: D, F#, A\n",
      "Am: A, C, E\n",
      "C: C, E, G\n",
      "D: D, F#, A\n"
     ]
    }
   ],
   "source": [
    "!pip install mido\n",
    "\n",
    "import mido\n",
    "from mido import Message, MidiFile, MidiTrack\n",
    "\n",
    "root_notes = ['C', 'C#', 'D', 'Eb', 'E', 'F', 'F#', 'G', 'G#', 'A', 'Bb', 'B']\n",
    "chord_types = {\n",
    "    '': [0, 4, 7],\n",
    "    'm': [0, 3, 7],\n",
    "    'dim': [0, 3, 6],\n",
    "    'aug': [0, 4, 8],\n",
    "    '7': [0, 4, 7, 10],\n",
    "    'Maj7': [0, 4, 7, 11],\n",
    "    'm7': [0, 3, 7, 10],\n",
    "    'dim7': [0, 3, 6, 9],\n",
    "    'mMaj7': [0, 3, 7, 11],\n",
    "    'aug7': [0, 4, 8, 10],\n",
    "}\n",
    "\n",
    "def note_name(pitch_class):\n",
    "    return root_notes[pitch_class % 12]\n",
    "\n",
    "def transpose(note, interval):\n",
    "    index = root_notes.index(note)\n",
    "    return note_name(index + interval)\n",
    "\n",
    "def create_chord_map():\n",
    "    chord_map = {}\n",
    "    for root in root_notes:\n",
    "        for chord_type, intervals in chord_types.items():\n",
    "            chord_name = root + chord_type\n",
    "            chord_notes = [transpose(root, interval) for interval in intervals]\n",
    "            chord_map[chord_name] = chord_notes\n",
    "    return chord_map\n",
    "\n",
    "chords = create_chord_map()\n",
    "\n",
    "def note_to_midi_pitch(note):\n",
    "    pitch_map = {'C': 0, 'D': 2, 'E': 4, 'F': 5, 'G': 7, 'A': 9, 'B': 11}\n",
    "    octave = int(note[-1]) + 1\n",
    "    pitch_class = note[0]\n",
    "    pitch_modifier = note[1] if len(note) > 2 else None\n",
    "\n",
    "    pitch = pitch_map[pitch_class] + (octave * 12)\n",
    "    if pitch_modifier == '#':\n",
    "        pitch += 1\n",
    "    elif pitch_modifier == 'b':\n",
    "        pitch -= 1\n",
    "\n",
    "    return pitch\n",
    "\n",
    "def get_notes(chord_progression):\n",
    "    notes = []\n",
    "    for chord in chord_progression:\n",
    "        if chord in chords:\n",
    "            notes.append(chords[chord])\n",
    "        else:\n",
    "            print(f\"Chord {chord} not recognized.\")\n",
    "    return notes\n",
    "\n",
    "def create_midi_file(chords, output_filename='output.mid', duration=1920):\n",
    "    midi_file = MidiFile()\n",
    "    track = MidiTrack()\n",
    "    midi_file.tracks.append(track)\n",
    "\n",
    "    for chord_notes in chords:\n",
    "        for note in chord_notes:\n",
    "            midi_note = note_to_midi_pitch(note + '3')\n",
    "            track.append(Message('note_on', note=midi_note, velocity=64, time=0))\n",
    "        for note in chord_notes:\n",
    "            midi_note = note_to_midi_pitch(note + '3')\n",
    "            track.append(Message('note_off', note=midi_note, velocity=64, time=duration))\n",
    "\n",
    "    midi_file.save(output_filename)\n",
    "\n",
    "chord_progression = input(\"Enter a chord progression separated by commas: \").split(', ')\n",
    "notes = get_notes(chord_progression)\n",
    "\n",
    "for chord, chord_notes in zip(chord_progression, notes):\n",
    "    print(f\"{chord}: {', '.join(chord_notes)}\")\n",
    "\n",
    "create_midi_file(notes)"
   ]
  },
  {
   "cell_type": "code",
   "execution_count": null,
   "id": "a773289f-b95e-4ec8-8821-89e0c4c4cb95",
   "metadata": {},
   "outputs": [],
   "source": []
  }
 ],
 "metadata": {
  "kernelspec": {
   "display_name": "Python 3 (ipykernel)",
   "language": "python",
   "name": "python3"
  },
  "language_info": {
   "codemirror_mode": {
    "name": "ipython",
    "version": 3
   },
   "file_extension": ".py",
   "mimetype": "text/x-python",
   "name": "python",
   "nbconvert_exporter": "python",
   "pygments_lexer": "ipython3",
   "version": "3.10.9"
  }
 },
 "nbformat": 4,
 "nbformat_minor": 5
}
